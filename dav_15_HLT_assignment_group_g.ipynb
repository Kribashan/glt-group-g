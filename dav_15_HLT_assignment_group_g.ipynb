{
 "cells": [
  {
   "cell_type": "markdown",
   "metadata": {
    "colab_type": "text",
    "id": "sASdreZ2AK4r"
   },
   "source": [
    "# <font color='maroon'>Assessment</font>\n",
    "Given the following dataset, answer the questions that follow. The necessary libraries have been imported.\n"
   ]
  },
  {
   "cell_type": "code",
   "execution_count": 330,
   "metadata": {
    "colab": {},
    "colab_type": "code",
    "collapsed": true,
    "id": "-hfGUi4yAK4z"
   },
   "outputs": [],
   "source": [
    "import matplotlib.pyplot as plt\n",
    "from numpy import arange\n",
    "import numpy as np\n",
    "import scipy.stats as stats\n",
    "import pandas as pd\n",
    "import seaborn as sns\n",
    "import random as rnd\n",
    "from random import sample \n",
    "import statistics as st"
   ]
  },
  {
   "cell_type": "code",
   "execution_count": 298,
   "metadata": {
    "colab": {},
    "colab_type": "code",
    "collapsed": true,
    "id": "4kZ-Kh9EAK5K"
   },
   "outputs": [],
   "source": [
    "%matplotlib inline"
   ]
  },
  {
   "cell_type": "code",
   "execution_count": 299,
   "metadata": {
    "colab": {},
    "colab_type": "code",
    "collapsed": true,
    "id": "Nn77q-wgAK5d"
   },
   "outputs": [],
   "source": [
    "data = pd.read_csv('athletes_.csv', sep=',', low_memory=False)"
   ]
  },
  {
   "cell_type": "code",
   "execution_count": 340,
   "metadata": {},
   "outputs": [],
   "source": [
    "#data.info"
   ]
  },
  {
   "cell_type": "code",
   "execution_count": 300,
   "metadata": {},
   "outputs": [
    {
     "data": {
      "text/html": [
       "<div>\n",
       "<style>\n",
       "    .dataframe thead tr:only-child th {\n",
       "        text-align: right;\n",
       "    }\n",
       "\n",
       "    .dataframe thead th {\n",
       "        text-align: left;\n",
       "    }\n",
       "\n",
       "    .dataframe tbody tr th {\n",
       "        vertical-align: top;\n",
       "    }\n",
       "</style>\n",
       "<table border=\"1\" class=\"dataframe\">\n",
       "  <thead>\n",
       "    <tr style=\"text-align: right;\">\n",
       "      <th></th>\n",
       "      <th>athlete_id</th>\n",
       "      <th>name</th>\n",
       "      <th>region</th>\n",
       "      <th>team</th>\n",
       "      <th>affiliate</th>\n",
       "      <th>gender</th>\n",
       "      <th>age</th>\n",
       "      <th>height</th>\n",
       "      <th>weight</th>\n",
       "      <th>fran</th>\n",
       "      <th>helen</th>\n",
       "      <th>grace</th>\n",
       "      <th>filthy50</th>\n",
       "      <th>fgonebad</th>\n",
       "      <th>run400</th>\n",
       "      <th>run5k</th>\n",
       "      <th>candj</th>\n",
       "      <th>snatch</th>\n",
       "      <th>deadlift</th>\n",
       "      <th>backsq</th>\n",
       "      <th>pullups</th>\n",
       "      <th>eat</th>\n",
       "      <th>train</th>\n",
       "      <th>background</th>\n",
       "      <th>experience</th>\n",
       "      <th>schedule</th>\n",
       "      <th>howlong</th>\n",
       "      <th>retrieved_datetime</th>\n",
       "    </tr>\n",
       "  </thead>\n",
       "  <tbody>\n",
       "    <tr>\n",
       "      <th>0</th>\n",
       "      <td>2554.0</td>\n",
       "      <td>Pj Ablang</td>\n",
       "      <td>South West</td>\n",
       "      <td>Double Edge</td>\n",
       "      <td>Double Edge CrossFit</td>\n",
       "      <td>Male</td>\n",
       "      <td>24.0</td>\n",
       "      <td>70.0</td>\n",
       "      <td>166.0</td>\n",
       "      <td>NaN</td>\n",
       "      <td>NaN</td>\n",
       "      <td>NaN</td>\n",
       "      <td>NaN</td>\n",
       "      <td>NaN</td>\n",
       "      <td>NaN</td>\n",
       "      <td>NaN</td>\n",
       "      <td>220.0</td>\n",
       "      <td>NaN</td>\n",
       "      <td>400.0</td>\n",
       "      <td>305.0</td>\n",
       "      <td>NaN</td>\n",
       "      <td>NaN</td>\n",
       "      <td>I workout mostly at a CrossFit Affiliate|I hav...</td>\n",
       "      <td>I played youth or high school level sports|I r...</td>\n",
       "      <td>I began CrossFit with a coach (e.g. at an affi...</td>\n",
       "      <td>I do multiple workouts in a day 2x a week|</td>\n",
       "      <td>4+ years|</td>\n",
       "      <td>NaN</td>\n",
       "    </tr>\n",
       "    <tr>\n",
       "      <th>1</th>\n",
       "      <td>3517.0</td>\n",
       "      <td>Derek Abdella</td>\n",
       "      <td>NaN</td>\n",
       "      <td>NaN</td>\n",
       "      <td>NaN</td>\n",
       "      <td>Male</td>\n",
       "      <td>42.0</td>\n",
       "      <td>70.0</td>\n",
       "      <td>190.0</td>\n",
       "      <td>NaN</td>\n",
       "      <td>NaN</td>\n",
       "      <td>NaN</td>\n",
       "      <td>NaN</td>\n",
       "      <td>0.0</td>\n",
       "      <td>NaN</td>\n",
       "      <td>NaN</td>\n",
       "      <td>NaN</td>\n",
       "      <td>NaN</td>\n",
       "      <td>NaN</td>\n",
       "      <td>NaN</td>\n",
       "      <td>NaN</td>\n",
       "      <td>NaN</td>\n",
       "      <td>I have a coach who determines my programming|I...</td>\n",
       "      <td>I played youth or high school level sports|</td>\n",
       "      <td>I began CrossFit with a coach (e.g. at an affi...</td>\n",
       "      <td>I do multiple workouts in a day 2x a week|</td>\n",
       "      <td>4+ years|</td>\n",
       "      <td>NaN</td>\n",
       "    </tr>\n",
       "    <tr>\n",
       "      <th>2</th>\n",
       "      <td>4691.0</td>\n",
       "      <td>NaN</td>\n",
       "      <td>NaN</td>\n",
       "      <td>NaN</td>\n",
       "      <td>NaN</td>\n",
       "      <td>NaN</td>\n",
       "      <td>NaN</td>\n",
       "      <td>NaN</td>\n",
       "      <td>NaN</td>\n",
       "      <td>NaN</td>\n",
       "      <td>NaN</td>\n",
       "      <td>NaN</td>\n",
       "      <td>NaN</td>\n",
       "      <td>NaN</td>\n",
       "      <td>NaN</td>\n",
       "      <td>NaN</td>\n",
       "      <td>NaN</td>\n",
       "      <td>NaN</td>\n",
       "      <td>NaN</td>\n",
       "      <td>NaN</td>\n",
       "      <td>NaN</td>\n",
       "      <td>NaN</td>\n",
       "      <td>NaN</td>\n",
       "      <td>NaN</td>\n",
       "      <td>NaN</td>\n",
       "      <td>NaN</td>\n",
       "      <td>NaN</td>\n",
       "      <td>NaN</td>\n",
       "    </tr>\n",
       "    <tr>\n",
       "      <th>3</th>\n",
       "      <td>5164.0</td>\n",
       "      <td>Abo Brandon</td>\n",
       "      <td>Southern California</td>\n",
       "      <td>LAX CrossFit</td>\n",
       "      <td>LAX CrossFit</td>\n",
       "      <td>Male</td>\n",
       "      <td>40.0</td>\n",
       "      <td>67.0</td>\n",
       "      <td>NaN</td>\n",
       "      <td>211.0</td>\n",
       "      <td>645.0</td>\n",
       "      <td>300.0</td>\n",
       "      <td>NaN</td>\n",
       "      <td>196.0</td>\n",
       "      <td>NaN</td>\n",
       "      <td>NaN</td>\n",
       "      <td>245.0</td>\n",
       "      <td>200.0</td>\n",
       "      <td>375.0</td>\n",
       "      <td>325.0</td>\n",
       "      <td>25.0</td>\n",
       "      <td>I eat 1-3 full cheat meals per week|</td>\n",
       "      <td>I workout mostly at a CrossFit Affiliate|I hav...</td>\n",
       "      <td>I played youth or high school level sports|</td>\n",
       "      <td>I began CrossFit by trying it alone (without a...</td>\n",
       "      <td>I usually only do 1 workout a day|</td>\n",
       "      <td>4+ years|</td>\n",
       "      <td>NaN</td>\n",
       "    </tr>\n",
       "    <tr>\n",
       "      <th>4</th>\n",
       "      <td>5286.0</td>\n",
       "      <td>Bryce Abbey</td>\n",
       "      <td>NaN</td>\n",
       "      <td>NaN</td>\n",
       "      <td>NaN</td>\n",
       "      <td>Male</td>\n",
       "      <td>32.0</td>\n",
       "      <td>65.0</td>\n",
       "      <td>149.0</td>\n",
       "      <td>206.0</td>\n",
       "      <td>465.0</td>\n",
       "      <td>NaN</td>\n",
       "      <td>1053.0</td>\n",
       "      <td>NaN</td>\n",
       "      <td>NaN</td>\n",
       "      <td>1081.0</td>\n",
       "      <td>205.0</td>\n",
       "      <td>150.0</td>\n",
       "      <td>NaN</td>\n",
       "      <td>325.0</td>\n",
       "      <td>50.0</td>\n",
       "      <td>I eat quality foods but don't measure the amount|</td>\n",
       "      <td>I workout mostly at a CrossFit Affiliate|I inc...</td>\n",
       "      <td>I played college sports|</td>\n",
       "      <td>I began CrossFit by trying it alone (without a...</td>\n",
       "      <td>I usually only do 1 workout a day|I strictly s...</td>\n",
       "      <td>1-2 years|</td>\n",
       "      <td>NaN</td>\n",
       "    </tr>\n",
       "  </tbody>\n",
       "</table>\n",
       "</div>"
      ],
      "text/plain": [
       "   athlete_id           name               region          team  \\\n",
       "0      2554.0      Pj Ablang           South West   Double Edge   \n",
       "1      3517.0  Derek Abdella                  NaN           NaN   \n",
       "2      4691.0            NaN                  NaN           NaN   \n",
       "3      5164.0    Abo Brandon  Southern California  LAX CrossFit   \n",
       "4      5286.0    Bryce Abbey                  NaN           NaN   \n",
       "\n",
       "              affiliate gender   age  height  weight   fran  helen  grace  \\\n",
       "0  Double Edge CrossFit   Male  24.0    70.0   166.0    NaN    NaN    NaN   \n",
       "1                   NaN   Male  42.0    70.0   190.0    NaN    NaN    NaN   \n",
       "2                   NaN    NaN   NaN     NaN     NaN    NaN    NaN    NaN   \n",
       "3          LAX CrossFit   Male  40.0    67.0     NaN  211.0  645.0  300.0   \n",
       "4                   NaN   Male  32.0    65.0   149.0  206.0  465.0    NaN   \n",
       "\n",
       "   filthy50  fgonebad  run400   run5k  candj  snatch  deadlift  backsq  \\\n",
       "0       NaN       NaN     NaN     NaN  220.0     NaN     400.0   305.0   \n",
       "1       NaN       0.0     NaN     NaN    NaN     NaN       NaN     NaN   \n",
       "2       NaN       NaN     NaN     NaN    NaN     NaN       NaN     NaN   \n",
       "3       NaN     196.0     NaN     NaN  245.0   200.0     375.0   325.0   \n",
       "4    1053.0       NaN     NaN  1081.0  205.0   150.0       NaN   325.0   \n",
       "\n",
       "   pullups                                                eat  \\\n",
       "0      NaN                                                NaN   \n",
       "1      NaN                                                NaN   \n",
       "2      NaN                                                NaN   \n",
       "3     25.0               I eat 1-3 full cheat meals per week|   \n",
       "4     50.0  I eat quality foods but don't measure the amount|   \n",
       "\n",
       "                                               train  \\\n",
       "0  I workout mostly at a CrossFit Affiliate|I hav...   \n",
       "1  I have a coach who determines my programming|I...   \n",
       "2                                                NaN   \n",
       "3  I workout mostly at a CrossFit Affiliate|I hav...   \n",
       "4  I workout mostly at a CrossFit Affiliate|I inc...   \n",
       "\n",
       "                                          background  \\\n",
       "0  I played youth or high school level sports|I r...   \n",
       "1        I played youth or high school level sports|   \n",
       "2                                                NaN   \n",
       "3        I played youth or high school level sports|   \n",
       "4                           I played college sports|   \n",
       "\n",
       "                                          experience  \\\n",
       "0  I began CrossFit with a coach (e.g. at an affi...   \n",
       "1  I began CrossFit with a coach (e.g. at an affi...   \n",
       "2                                                NaN   \n",
       "3  I began CrossFit by trying it alone (without a...   \n",
       "4  I began CrossFit by trying it alone (without a...   \n",
       "\n",
       "                                            schedule     howlong  \\\n",
       "0         I do multiple workouts in a day 2x a week|   4+ years|   \n",
       "1         I do multiple workouts in a day 2x a week|   4+ years|   \n",
       "2                                                NaN         NaN   \n",
       "3                 I usually only do 1 workout a day|   4+ years|   \n",
       "4  I usually only do 1 workout a day|I strictly s...  1-2 years|   \n",
       "\n",
       "  retrieved_datetime  \n",
       "0                NaN  \n",
       "1                NaN  \n",
       "2                NaN  \n",
       "3                NaN  \n",
       "4                NaN  "
      ]
     },
     "execution_count": 300,
     "metadata": {},
     "output_type": "execute_result"
    }
   ],
   "source": [
    "pd.set_option('display.max_columns', None) \n",
    "data.head(5)"
   ]
  },
  {
   "cell_type": "markdown",
   "metadata": {
    "colab_type": "text",
    "id": "D1lo8v1zAK6C"
   },
   "source": [
    "### Question 1\n",
    "Study the data. What is the size of the dataset?"
   ]
  },
  {
   "cell_type": "code",
   "execution_count": 301,
   "metadata": {
    "colab": {},
    "colab_type": "code",
    "id": "zvEXIBu4AK6M"
   },
   "outputs": [
    {
     "data": {
      "text/plain": [
       "(423006, 28)"
      ]
     },
     "execution_count": 301,
     "metadata": {},
     "output_type": "execute_result"
    }
   ],
   "source": [
    "data.shape\n",
    "# 423006 rows x 28 columns"
   ]
  },
  {
   "cell_type": "markdown",
   "metadata": {},
   "source": [
    "### Size of dataset: 423006 *Rows* *x* 28 *Columns*"
   ]
  },
  {
   "cell_type": "markdown",
   "metadata": {
    "colab_type": "text",
    "id": "ti3Di6QjAK6m"
   },
   "source": [
    "#### Question 1.1\n",
    "Generate summary statistics of the data."
   ]
  },
  {
   "cell_type": "code",
   "execution_count": 302,
   "metadata": {
    "colab": {},
    "colab_type": "code",
    "id": "hg72ZotdAK6s"
   },
   "outputs": [
    {
     "data": {
      "text/html": [
       "<div>\n",
       "<style>\n",
       "    .dataframe thead tr:only-child th {\n",
       "        text-align: right;\n",
       "    }\n",
       "\n",
       "    .dataframe thead th {\n",
       "        text-align: left;\n",
       "    }\n",
       "\n",
       "    .dataframe tbody tr th {\n",
       "        vertical-align: top;\n",
       "    }\n",
       "</style>\n",
       "<table border=\"1\" class=\"dataframe\">\n",
       "  <thead>\n",
       "    <tr style=\"text-align: right;\">\n",
       "      <th></th>\n",
       "      <th>athlete_id</th>\n",
       "      <th>age</th>\n",
       "      <th>height</th>\n",
       "      <th>weight</th>\n",
       "      <th>fran</th>\n",
       "      <th>helen</th>\n",
       "      <th>grace</th>\n",
       "      <th>filthy50</th>\n",
       "      <th>fgonebad</th>\n",
       "      <th>run400</th>\n",
       "      <th>run5k</th>\n",
       "      <th>candj</th>\n",
       "      <th>snatch</th>\n",
       "      <th>deadlift</th>\n",
       "      <th>backsq</th>\n",
       "      <th>pullups</th>\n",
       "    </tr>\n",
       "  </thead>\n",
       "  <tbody>\n",
       "    <tr>\n",
       "      <th>count</th>\n",
       "      <td>423003.000000</td>\n",
       "      <td>331110.000000</td>\n",
       "      <td>1.598690e+05</td>\n",
       "      <td>229890.000000</td>\n",
       "      <td>5.542600e+04</td>\n",
       "      <td>3.027900e+04</td>\n",
       "      <td>4.074500e+04</td>\n",
       "      <td>1.935900e+04</td>\n",
       "      <td>2.973800e+04</td>\n",
       "      <td>2.224600e+04</td>\n",
       "      <td>3.609700e+04</td>\n",
       "      <td>1.044350e+05</td>\n",
       "      <td>9.728000e+04</td>\n",
       "      <td>1.153230e+05</td>\n",
       "      <td>1.105170e+05</td>\n",
       "      <td>5.060800e+04</td>\n",
       "    </tr>\n",
       "    <tr>\n",
       "      <th>mean</th>\n",
       "      <td>292748.166538</td>\n",
       "      <td>32.516750</td>\n",
       "      <td>1.206217e+02</td>\n",
       "      <td>170.896137</td>\n",
       "      <td>9.886691e+02</td>\n",
       "      <td>1.207950e+03</td>\n",
       "      <td>5.766025e+02</td>\n",
       "      <td>2.127863e+03</td>\n",
       "      <td>1.472252e+03</td>\n",
       "      <td>5.241279e+02</td>\n",
       "      <td>3.411464e+03</td>\n",
       "      <td>2.709107e+02</td>\n",
       "      <td>2.424957e+02</td>\n",
       "      <td>6.970503e+02</td>\n",
       "      <td>5.852109e+02</td>\n",
       "      <td>4.269613e+04</td>\n",
       "    </tr>\n",
       "    <tr>\n",
       "      <th>std</th>\n",
       "      <td>184969.660327</td>\n",
       "      <td>7.730671</td>\n",
       "      <td>2.097995e+04</td>\n",
       "      <td>58.379799</td>\n",
       "      <td>7.200430e+04</td>\n",
       "      <td>6.824091e+04</td>\n",
       "      <td>4.891145e+04</td>\n",
       "      <td>6.055021e+04</td>\n",
       "      <td>9.762688e+04</td>\n",
       "      <td>5.628804e+04</td>\n",
       "      <td>1.251980e+05</td>\n",
       "      <td>2.596882e+04</td>\n",
       "      <td>2.708942e+04</td>\n",
       "      <td>5.523235e+04</td>\n",
       "      <td>5.052976e+04</td>\n",
       "      <td>9.546078e+06</td>\n",
       "    </tr>\n",
       "    <tr>\n",
       "      <th>min</th>\n",
       "      <td>82.000000</td>\n",
       "      <td>13.000000</td>\n",
       "      <td>0.000000e+00</td>\n",
       "      <td>1.000000</td>\n",
       "      <td>1.000000e+00</td>\n",
       "      <td>1.000000e+00</td>\n",
       "      <td>-6.000000e+01</td>\n",
       "      <td>1.000000e+00</td>\n",
       "      <td>0.000000e+00</td>\n",
       "      <td>1.000000e+00</td>\n",
       "      <td>1.000000e+00</td>\n",
       "      <td>-4.500000e+01</td>\n",
       "      <td>0.000000e+00</td>\n",
       "      <td>-5.000000e+02</td>\n",
       "      <td>-7.000000e+00</td>\n",
       "      <td>-6.000000e+00</td>\n",
       "    </tr>\n",
       "    <tr>\n",
       "      <th>25%</th>\n",
       "      <td>135091.500000</td>\n",
       "      <td>27.000000</td>\n",
       "      <td>6.600000e+01</td>\n",
       "      <td>145.000000</td>\n",
       "      <td>2.150000e+02</td>\n",
       "      <td>5.250000e+02</td>\n",
       "      <td>1.490000e+02</td>\n",
       "      <td>1.308000e+03</td>\n",
       "      <td>2.400000e+02</td>\n",
       "      <td>6.200000e+01</td>\n",
       "      <td>1.242000e+03</td>\n",
       "      <td>1.400000e+02</td>\n",
       "      <td>1.050000e+02</td>\n",
       "      <td>2.550000e+02</td>\n",
       "      <td>2.050000e+02</td>\n",
       "      <td>1.500000e+01</td>\n",
       "    </tr>\n",
       "    <tr>\n",
       "      <th>50%</th>\n",
       "      <td>275839.000000</td>\n",
       "      <td>31.000000</td>\n",
       "      <td>6.900000e+01</td>\n",
       "      <td>170.000000</td>\n",
       "      <td>2.900000e+02</td>\n",
       "      <td>5.950000e+02</td>\n",
       "      <td>1.930000e+02</td>\n",
       "      <td>1.550000e+03</td>\n",
       "      <td>2.940000e+02</td>\n",
       "      <td>7.100000e+01</td>\n",
       "      <td>1.380000e+03</td>\n",
       "      <td>1.950000e+02</td>\n",
       "      <td>1.450000e+02</td>\n",
       "      <td>3.450000e+02</td>\n",
       "      <td>2.750000e+02</td>\n",
       "      <td>2.700000e+01</td>\n",
       "    </tr>\n",
       "    <tr>\n",
       "      <th>75%</th>\n",
       "      <td>473188.000000</td>\n",
       "      <td>37.000000</td>\n",
       "      <td>7.200000e+01</td>\n",
       "      <td>192.000000</td>\n",
       "      <td>3.920000e+02</td>\n",
       "      <td>6.940000e+02</td>\n",
       "      <td>2.620000e+02</td>\n",
       "      <td>1.809000e+03</td>\n",
       "      <td>3.360000e+02</td>\n",
       "      <td>8.400000e+01</td>\n",
       "      <td>1.560000e+03</td>\n",
       "      <td>2.350000e+02</td>\n",
       "      <td>1.850000e+02</td>\n",
       "      <td>4.150000e+02</td>\n",
       "      <td>3.350000e+02</td>\n",
       "      <td>3.900000e+01</td>\n",
       "    </tr>\n",
       "    <tr>\n",
       "      <th>max</th>\n",
       "      <td>633083.000000</td>\n",
       "      <td>125.000000</td>\n",
       "      <td>8.388607e+06</td>\n",
       "      <td>20175.000000</td>\n",
       "      <td>8.388607e+06</td>\n",
       "      <td>8.388607e+06</td>\n",
       "      <td>8.388607e+06</td>\n",
       "      <td>8.388607e+06</td>\n",
       "      <td>8.388607e+06</td>\n",
       "      <td>8.388607e+06</td>\n",
       "      <td>8.388607e+06</td>\n",
       "      <td>8.388607e+06</td>\n",
       "      <td>8.388607e+06</td>\n",
       "      <td>8.388607e+06</td>\n",
       "      <td>8.388607e+06</td>\n",
       "      <td>2.147484e+09</td>\n",
       "    </tr>\n",
       "  </tbody>\n",
       "</table>\n",
       "</div>"
      ],
      "text/plain": [
       "          athlete_id            age        height         weight  \\\n",
       "count  423003.000000  331110.000000  1.598690e+05  229890.000000   \n",
       "mean   292748.166538      32.516750  1.206217e+02     170.896137   \n",
       "std    184969.660327       7.730671  2.097995e+04      58.379799   \n",
       "min        82.000000      13.000000  0.000000e+00       1.000000   \n",
       "25%    135091.500000      27.000000  6.600000e+01     145.000000   \n",
       "50%    275839.000000      31.000000  6.900000e+01     170.000000   \n",
       "75%    473188.000000      37.000000  7.200000e+01     192.000000   \n",
       "max    633083.000000     125.000000  8.388607e+06   20175.000000   \n",
       "\n",
       "               fran         helen         grace      filthy50      fgonebad  \\\n",
       "count  5.542600e+04  3.027900e+04  4.074500e+04  1.935900e+04  2.973800e+04   \n",
       "mean   9.886691e+02  1.207950e+03  5.766025e+02  2.127863e+03  1.472252e+03   \n",
       "std    7.200430e+04  6.824091e+04  4.891145e+04  6.055021e+04  9.762688e+04   \n",
       "min    1.000000e+00  1.000000e+00 -6.000000e+01  1.000000e+00  0.000000e+00   \n",
       "25%    2.150000e+02  5.250000e+02  1.490000e+02  1.308000e+03  2.400000e+02   \n",
       "50%    2.900000e+02  5.950000e+02  1.930000e+02  1.550000e+03  2.940000e+02   \n",
       "75%    3.920000e+02  6.940000e+02  2.620000e+02  1.809000e+03  3.360000e+02   \n",
       "max    8.388607e+06  8.388607e+06  8.388607e+06  8.388607e+06  8.388607e+06   \n",
       "\n",
       "             run400         run5k         candj        snatch      deadlift  \\\n",
       "count  2.224600e+04  3.609700e+04  1.044350e+05  9.728000e+04  1.153230e+05   \n",
       "mean   5.241279e+02  3.411464e+03  2.709107e+02  2.424957e+02  6.970503e+02   \n",
       "std    5.628804e+04  1.251980e+05  2.596882e+04  2.708942e+04  5.523235e+04   \n",
       "min    1.000000e+00  1.000000e+00 -4.500000e+01  0.000000e+00 -5.000000e+02   \n",
       "25%    6.200000e+01  1.242000e+03  1.400000e+02  1.050000e+02  2.550000e+02   \n",
       "50%    7.100000e+01  1.380000e+03  1.950000e+02  1.450000e+02  3.450000e+02   \n",
       "75%    8.400000e+01  1.560000e+03  2.350000e+02  1.850000e+02  4.150000e+02   \n",
       "max    8.388607e+06  8.388607e+06  8.388607e+06  8.388607e+06  8.388607e+06   \n",
       "\n",
       "             backsq       pullups  \n",
       "count  1.105170e+05  5.060800e+04  \n",
       "mean   5.852109e+02  4.269613e+04  \n",
       "std    5.052976e+04  9.546078e+06  \n",
       "min   -7.000000e+00 -6.000000e+00  \n",
       "25%    2.050000e+02  1.500000e+01  \n",
       "50%    2.750000e+02  2.700000e+01  \n",
       "75%    3.350000e+02  3.900000e+01  \n",
       "max    8.388607e+06  2.147484e+09  "
      ]
     },
     "execution_count": 302,
     "metadata": {},
     "output_type": "execute_result"
    }
   ],
   "source": [
    "data.describe()"
   ]
  },
  {
   "cell_type": "markdown",
   "metadata": {
    "colab_type": "text",
    "id": "cNlUUTDOAK7F"
   },
   "source": [
    "#### Question 1.2\n",
    "Are the any missing values?  A simple strategy would be to remove rows with missing values. This can however reduce the size of the dataset. Another technique is to imput missing values with a sensible value like the mean.\n",
    "\n",
    "For more on how to deal with missing values, see this blog entry: [How to Handle Missing Data with Python](https://machinelearningmastery.com/handle-missing-data-python/)."
   ]
  },
  {
   "cell_type": "code",
   "execution_count": 303,
   "metadata": {
    "colab": {},
    "colab_type": "code",
    "id": "6uLGppKNAK7N"
   },
   "outputs": [
    {
     "data": {
      "text/plain": [
       "athlete_id                 3\n",
       "name                   91896\n",
       "region                171744\n",
       "team                  267846\n",
       "affiliate             181090\n",
       "gender                 91896\n",
       "age                    91896\n",
       "height                263137\n",
       "weight                193116\n",
       "fran                  367580\n",
       "helen                 392727\n",
       "grace                 382261\n",
       "filthy50              403647\n",
       "fgonebad              393268\n",
       "run400                400760\n",
       "run5k                 386909\n",
       "candj                 318571\n",
       "snatch                325726\n",
       "deadlift              307683\n",
       "backsq                312489\n",
       "pullups               372398\n",
       "eat                   329074\n",
       "train                 317175\n",
       "background            324061\n",
       "experience            318070\n",
       "schedule              325131\n",
       "howlong               313800\n",
       "retrieved_datetime    114061\n",
       "dtype: int64"
      ]
     },
     "execution_count": 303,
     "metadata": {},
     "output_type": "execute_result"
    }
   ],
   "source": [
    "data.isnull().sum()"
   ]
  },
  {
   "cell_type": "markdown",
   "metadata": {},
   "source": [
    "### 1.2 The above Output shows the number of missing inputs amongst all of the columns"
   ]
  },
  {
   "cell_type": "code",
   "execution_count": 304,
   "metadata": {},
   "outputs": [
    {
     "data": {
      "text/plain": [
       "count    1.598690e+05\n",
       "mean     1.206217e+02\n",
       "std      2.097995e+04\n",
       "min      0.000000e+00\n",
       "25%      6.600000e+01\n",
       "50%      6.900000e+01\n",
       "75%      7.200000e+01\n",
       "max      8.388607e+06\n",
       "Name: height, dtype: float64"
      ]
     },
     "execution_count": 304,
     "metadata": {},
     "output_type": "execute_result"
    }
   ],
   "source": [
    "#data['height'] = data['height'].replace(0, data['height'].mean())\n",
    "#data['height'].fillna(data['height'].mean(), inplace=True)\n",
    "d= data['height']\n",
    "d.dropna(inplace=True)\n",
    "d.describe()"
   ]
  },
  {
   "cell_type": "code",
   "execution_count": 305,
   "metadata": {},
   "outputs": [
    {
     "data": {
      "text/plain": [
       "count    159043.000000\n",
       "mean         67.880359\n",
       "std           7.409877\n",
       "min           0.000000\n",
       "25%          66.000000\n",
       "50%          69.000000\n",
       "75%          71.000000\n",
       "max          77.000000\n",
       "Name: height, dtype: float64"
      ]
     },
     "execution_count": 305,
     "metadata": {},
     "output_type": "execute_result"
    }
   ],
   "source": [
    "#There are some major outliers in the height data, so I limited the dataset to 99th percentile \n",
    "p = np.percentile(d, 99)\n",
    "filtered = d[(d<= p) == True]\n",
    "filtered.describe()\n",
    "\n"
   ]
  },
  {
   "cell_type": "markdown",
   "metadata": {
    "colab_type": "text",
    "id": "mrGe0lq8AK7g"
   },
   "source": [
    "### Question 2\n",
    "\n",
    "Study the `height` column. What distribution does the data follow? \n",
    "Hint: Use a histogram or density plot to visualise the data."
   ]
  },
  {
   "cell_type": "markdown",
   "metadata": {
    "colab": {},
    "colab_type": "code",
    "id": "BYKF8yDcAK7n"
   },
   "source": [
    "## Please Note: Logarithmic scale on Y-Axis"
   ]
  },
  {
   "cell_type": "code",
   "execution_count": 306,
   "metadata": {
    "scrolled": true
   },
   "outputs": [
    {
     "data": {
      "text/plain": [
       "<matplotlib.text.Text at 0x21cb695dda0>"
      ]
     },
     "execution_count": 306,
     "metadata": {},
     "output_type": "execute_result"
    },
    {
     "data": {
      "image/png": "[encoded data removed]",
      "text/plain": [
       "<matplotlib.figure.Figure at 0x21c99ce7c88>"
      ]
     },
     "metadata": {},
     "output_type": "display_data"
    }
   ],
   "source": [
    "plt.figure(figsize=(20,15))\n",
    "plt.hist(filtered, bins=120, log=True)\n",
    "plt.xlabel('Height') \n",
    "plt.ylabel('Frequency') \n",
    "plt.title('Histogram of the distribution of the heights')"
   ]
  },
  {
   "cell_type": "markdown",
   "metadata": {},
   "source": [
    "## Please Note: Figure below plotted without Logarithmic scale"
   ]
  },
  {
   "cell_type": "code",
   "execution_count": 312,
   "metadata": {},
   "outputs": [
    {
     "data": {
      "text/plain": [
       "<matplotlib.text.Text at 0x21c85830f60>"
      ]
     },
     "execution_count": 312,
     "metadata": {},
     "output_type": "execute_result"
    },
    {
     "data": {
      "image/png": "[encoded data removed]",
      "text/plain": [
       "<matplotlib.figure.Figure at 0x21c92950358>"
      ]
     },
     "metadata": {},
     "output_type": "display_data"
    }
   ],
   "source": [
    "plt.figure(figsize=(20,15))\n",
    "plt.axvline(filtered.mean(), color='k', linestyle='dashed', linewidth=4)\n",
    "plt.hist(filtered, bins=120, log=False)\n",
    "plt.xlabel('Height') \n",
    "plt.ylabel('Frequency') \n",
    "plt.title('Histogram of the distribution of the heights')"
   ]
  },
  {
   "cell_type": "markdown",
   "metadata": {},
   "source": [
    "### From the histogram plotted above we see that the data follows a normal distribution"
   ]
  },
  {
   "cell_type": "markdown",
   "metadata": {
    "colab_type": "text",
    "id": "9CWceB2gAK70"
   },
   "source": [
    "### Question 3\n",
    "What is the average height?"
   ]
  },
  {
   "cell_type": "code",
   "execution_count": 311,
   "metadata": {
    "colab": {},
    "colab_type": "code",
    "id": "GSzqNCn4AK77"
   },
   "outputs": [
    {
     "name": "stdout",
     "output_type": "stream",
     "text": [
      "67.88035939965921\n"
     ]
    }
   ],
   "source": [
    "average = filtered.mean()\n",
    "print(average)"
   ]
  },
  {
   "cell_type": "markdown",
   "metadata": {
    "colab_type": "text",
    "id": "519vK1kjAK8O"
   },
   "source": [
    "### Question 4\n",
    "\n",
    "Use simple random sampling to sample from the dataset. Choose a sample of 20000."
   ]
  },
  {
   "cell_type": "code",
   "execution_count": 338,
   "metadata": {
    "colab": {},
    "colab_type": "code",
    "id": "V57d_OazAK8U"
   },
   "outputs": [
    {
     "data": {
      "text/plain": [
       "(20000,)"
      ]
     },
     "execution_count": 338,
     "metadata": {},
     "output_type": "execute_result"
    }
   ],
   "source": [
    "random_samples = data['height'].sample(20000)\n",
    "random_samples.shape"
   ]
  },
  {
   "cell_type": "markdown",
   "metadata": {
    "colab_type": "text",
    "id": "vNY59IIfAK8g"
   },
   "source": [
    "### Question 4\n",
    "\n",
    "Use stratified sampling to sample from the dataset. Choose a sample of 20000."
   ]
  },
  {
   "cell_type": "code",
   "execution_count": 291,
   "metadata": {},
   "outputs": [
    {
     "data": {
      "text/plain": [
       "(20101, 28)"
      ]
     },
     "execution_count": 291,
     "metadata": {},
     "output_type": "execute_result"
    }
   ],
   "source": [
    "strata = data.groupby('region').count()\n",
    "groups, features = strata.shape\n",
    "stratified = data.groupby('region').apply(lambda x: x.sample(frac=0.08))\n",
    "stratified.shape"
   ]
  },
  {
   "cell_type": "markdown",
   "metadata": {
    "colab_type": "text",
    "id": "jN1d7dnLAK8w"
   },
   "source": [
    "### Question 5\n",
    "Compare simple random sampling and stratified random sampling. Compare the means generated by the two sampling techniques and discuss your observations below your code."
   ]
  },
  {
   "cell_type": "code",
   "execution_count": 337,
   "metadata": {
    "colab": {},
    "colab_type": "code",
    "id": "4JHPs2AKAK80"
   },
   "outputs": [
    {
     "name": "stdout",
     "output_type": "stream",
     "text": [
      "Random Sampling Mean Height: 68.49645 || Stratified Sampling Mean Height: 67.7795\n"
     ]
    }
   ],
   "source": [
    "#Calculating mean height through random sampling\n",
    "rs_mean = random_samples.mean()\n",
    "\n",
    "#Calculating mean height through Stratified sampling\n",
    "mean_array = []\n",
    "df = pd.DataFrame(stratified['height'].unstack()).transpose()\n",
    "for column in df.columns[1:]:\n",
    "    mean_array.append(df[column].mean())\n",
    "mean_df = pd.DataFrame(mean_array)\n",
    "strat_mean = st.mean(mean_array)\n",
    "print('Random Sampling Mean Height: {0} || Stratified Sampling Mean Height: {1}'.format(rs_mean, '%.4f'%strat_mean))\n"
   ]
  },
  {
   "cell_type": "markdown",
   "metadata": {},
   "source": [
    "Looking at the means of the different subgroups, we can tell there is a difference between means of random sampling and means from stratified random sampling. While random sampling involves randomly sampling from the population, this means that each possible sample is equally likely to occur. Stratified random sampling on the other hand, splits the population into smaller groups or strata based on shared characteristics, in this case 'region'. From this a random sample is taken from each stratum in direct proportion to the size of the stratum compared to the population.\n",
    "\n",
    "Hence stratified random sampling tends to give more closer means to population mean in comparison to the population mean."
   ]
  },
  {
   "cell_type": "markdown",
   "metadata": {
    "colab_type": "text",
    "id": "GStf2Ah0AK9E"
   },
   "source": [
    "### Question 6 "
   ]
  },
  {
   "cell_type": "markdown",
   "metadata": {
    "colab_type": "text",
    "id": "Lw20bGLVAK9I"
   },
   "source": [
    "In  this question we are going to implement cluster sampling. Data is divided into clusters, if it isn't already divided into clusters, and then we use simple random sampling to select a number of clusters from the sample. From the group of selected clusters, we again use simple random sampling to select random data points. These now form our sample.  \n",
    "\n",
    "Let's implement this procedure using some randomly generated data that we are going to group into clusters."
   ]
  },
  {
   "cell_type": "code",
   "execution_count": 293,
   "metadata": {
    "colab": {},
    "colab_type": "code",
    "collapsed": true,
    "id": "w9SowrZGAK9M"
   },
   "outputs": [],
   "source": [
    "n_clusters = 10\n",
    "rand_data = stats.norm.rvs(loc=0,        # mean 0\n",
    "                      scale=1,      # variance 1\n",
    "                      size=100000,  # number of points\n",
    "                      random_state=None)\n",
    "\n",
    "rand_data = pd.DataFrame({'var1': rand_data})  # turn list into dataframe with heading var1\n",
    "\n",
    "cluster = [rnd.randint(0,9) for c in range(100000)] # generate cluster numbers for grouping\n",
    "\n",
    "n_col = pd.Series(cluster) # turn list into Series object\n",
    "rand_data['cluster'] = n_col.values\n"
   ]
  },
  {
   "cell_type": "markdown",
   "metadata": {
    "colab_type": "text",
    "id": "WyQAkSpLAK9d"
   },
   "source": [
    "Now that we've generated random data and placed the data into clusters, generate a sample from the *athletes* data using cluster sampling technique."
   ]
  },
  {
   "cell_type": "markdown",
   "metadata": {
    "colab_type": "text",
    "id": "UmKTSwrTAK9_"
   },
   "source": [
    "<!-- Distribution fitting with scipy exercise given a dataset. Good references about El Nino dataset. I should find a climate dataset.\n",
    "\n",
    "https://stackoverflow.com/questions/6615489/fitting-distributions-goodness-of-fit-p-value-is-it-possible-to-do-this-with/16651524#16651524\n",
    "\n",
    "https://stackoverflow.com/questions/6620471/fitting-empirical-distribution-to-theoretical-ones-with-scipy-python -->"
   ]
  },
  {
   "cell_type": "code",
   "execution_count": 295,
   "metadata": {},
   "outputs": [
    {
     "name": "stdout",
     "output_type": "stream",
     "text": [
      "Cluster chosen: 10, Mean Height = 68.33153856508278\n"
     ]
    }
   ],
   "source": [
    "cluster = [rnd.randint(0,20) for c in range(data.shape[0])] # generate cluster numbers for grouping\n",
    "\n",
    "n_col = pd.Series(cluster) # turn list into Series object\n",
    "data['cluster'] = n_col.values\n",
    "\n",
    "c_cluster = rnd.randint(0,20) # Cluster to choose for sampling\n",
    "cluster_data = data[(data['cluster'] == c_cluster) == True]\n",
    "cl_mean = cluster_data['height'].mean()\n",
    "print('Cluster chosen: {0}, Mean Height = {1}'.format(c_cluster, cl_mean))"
   ]
  }
 ],
 "metadata": {
  "colab": {
   "name": "dav_15_HLT_assignment.ipynb",
   "provenance": [],
   "version": "0.3.2"
  },
  "kernelspec": {
   "display_name": "Python 3",
   "language": "python",
   "name": "python3"
  },
  "language_info": {
   "codemirror_mode": {
    "name": "ipython",
    "version": 3
   },
   "file_extension": ".py",
   "mimetype": "text/x-python",
   "name": "python",
   "nbconvert_exporter": "python",
   "pygments_lexer": "ipython3",
   "version": "3.6.1"
  }
 },
 "nbformat": 4,
 "nbformat_minor": 1
}
